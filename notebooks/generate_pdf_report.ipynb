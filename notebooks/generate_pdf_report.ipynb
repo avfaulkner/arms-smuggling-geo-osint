{
 "cells": [
  {
   "cell_type": "code",
   "execution_count": null,
   "id": "27fbfc50",
   "metadata": {},
   "outputs": [
    {
     "name": "stdout",
     "output_type": "stream",
     "text": [
      "[✓] PDF generated via HTML conversion\n"
     ]
    }
   ],
   "source": [
    "import markdown\n",
    "from weasyprint import HTML\n",
    "\n",
    "with open('../reports/sar_intelligence_report.md', 'r') as f:\n",
    "    md_content = f.read()\n",
    "\n",
    "html_content = markdown.markdown(md_content, extensions=['extra', 'toc'])\n",
    "HTML(string=html_content).write_pdf('../reports/sar_intelligence_report.pdf')\n",
    "\n",
    "print(\"PDF generated via HTML conversion\")\n"
   ]
  }
 ],
 "metadata": {
  "kernelspec": {
   "display_name": "Python 3",
   "language": "python",
   "name": "python3"
  },
  "language_info": {
   "codemirror_mode": {
    "name": "ipython",
    "version": 3
   },
   "file_extension": ".py",
   "mimetype": "text/x-python",
   "name": "python",
   "nbconvert_exporter": "python",
   "pygments_lexer": "ipython3",
   "version": "3.9.23"
  }
 },
 "nbformat": 4,
 "nbformat_minor": 5
}
